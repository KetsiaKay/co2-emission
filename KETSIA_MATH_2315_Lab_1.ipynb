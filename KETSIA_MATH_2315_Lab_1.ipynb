{
  "nbformat": 4,
  "nbformat_minor": 0,
  "metadata": {
    "colab": {
      "provenance": [],
      "include_colab_link": true
    },
    "kernelspec": {
      "name": "python3",
      "display_name": "Python 3"
    },
    "language_info": {
      "name": "python"
    }
  },
  "cells": [
    {
      "cell_type": "markdown",
      "metadata": {
        "id": "view-in-github",
        "colab_type": "text"
      },
      "source": [
        "<a href=\"https://colab.research.google.com/github/KetsiaKay/co2-emission/blob/main/KETSIA_MATH_2315_Lab_1.ipynb\" target=\"_parent\"><img src=\"https://colab.research.google.com/assets/colab-badge.svg\" alt=\"Open In Colab\"/></a>"
      ]
    },
    {
      "cell_type": "markdown",
      "source": [
        "## Imports"
      ],
      "metadata": {
        "id": "Av8gH1UmMgFv"
      }
    },
    {
      "cell_type": "code",
      "source": [
        "from google.colab import drive\n",
        "drive.mount('/content/drive')"
      ],
      "metadata": {
        "id": "YzVCxSi9fKdi",
        "colab": {
          "base_uri": "https://localhost:8080/"
        },
        "outputId": "072b15e9-702b-4a2b-9e84-8e299ba6dcb8"
      },
      "execution_count": 1,
      "outputs": [
        {
          "output_type": "stream",
          "name": "stdout",
          "text": [
            "Mounted at /content/drive\n"
          ]
        }
      ]
    },
    {
      "cell_type": "code",
      "execution_count": 1,
      "metadata": {
        "id": "f9-cSwbcMJc7"
      },
      "outputs": [],
      "source": [
        "# Import pandas, numpy, and matplotlib\n",
        "import pandas as pd\n",
        "import numpy as np\n",
        "import matplotlib.pyplot as plt\n",
        "\n",
        "# seaborn is a data visualization library built on matplotlib\n",
        "import seaborn as sns \n",
        "\n",
        "# set the plotting style \n",
        "sns.set_style(\"whitegrid\")\n",
        "\n",
        "# Plot missing values\n",
        "import missingno as msno"
      ]
    },
    {
      "cell_type": "markdown",
      "source": [
        "## Lab introduction"
      ],
      "metadata": {
        "id": "3600arA2CaSv"
      }
    },
    {
      "cell_type": "markdown",
      "source": [
        "Use the greenhouse gas emission data set owid-co2-data.csv from Our World in Data to describe how the emission levels of the current top 10 CO2 emitters have changed over the last 50 years (1971 - 2020). \n",
        "\n"
      ],
      "metadata": {
        "id": "nuNtt1LwCj2t"
      }
    },
    {
      "cell_type": "markdown",
      "source": [],
      "metadata": {
        "id": "UtpS9xNgCwXG"
      }
    },
    {
      "cell_type": "markdown",
      "source": [
        "## Import and set up the data set"
      ],
      "metadata": {
        "id": "hrNAfmwpMj2L"
      }
    },
    {
      "cell_type": "markdown",
      "source": [
        "##### $\\rightarrow$ Use Pandas to load the file `owid-co2-data.csv` from https://github.com/KetsiaKay/co2-emission as a `DataFrame`. Name the `DataFrame` `df`."
      ],
      "metadata": {
        "id": "aQxUj8ChtEGr"
      }
    },
    {
      "cell_type": "markdown",
      "source": [
        "##### Solution"
      ],
      "metadata": {
        "id": "75igDlZQOqzQ"
      }
    },
    {
      "cell_type": "markdown",
      "source": [
        "Consult the [codebook](https://github.com/owid/co2-data/blob/master/owid-co2-codebook.csv) to see the description of each column.\n",
        "\n"
      ],
      "metadata": {
        "id": "jZAaO4glOZC1"
      }
    },
    {
      "cell_type": "code",
      "source": [
        "df=pd.read_csv('https://raw.githubusercontent.com/KetsiaKay/co2-emission/main/owid-co2-data.csv')\n",
        "\n",
        "print(df.columns)"
      ],
      "metadata": {
        "id": "WziH60lQdg4d",
        "colab": {
          "base_uri": "https://localhost:8080/"
        },
        "outputId": "ae98f2bf-ea75-484a-f14d-6a5ae8555d1d"
      },
      "execution_count": 2,
      "outputs": [
        {
          "output_type": "stream",
          "name": "stdout",
          "text": [
            "Index(['country', 'year', 'iso_code', 'population', 'gdp', 'cement_co2',\n",
            "       'cement_co2_per_capita', 'co2', 'co2_growth_abs', 'co2_growth_prct',\n",
            "       'co2_including_luc', 'co2_including_luc_growth_abs',\n",
            "       'co2_including_luc_growth_prct', 'co2_including_luc_per_capita',\n",
            "       'co2_including_luc_per_gdp', 'co2_including_luc_per_unit_energy',\n",
            "       'co2_per_capita', 'co2_per_gdp', 'co2_per_unit_energy', 'coal_co2',\n",
            "       'coal_co2_per_capita', 'consumption_co2', 'consumption_co2_per_capita',\n",
            "       'consumption_co2_per_gdp', 'cumulative_cement_co2', 'cumulative_co2',\n",
            "       'cumulative_co2_including_luc', 'cumulative_coal_co2',\n",
            "       'cumulative_flaring_co2', 'cumulative_gas_co2', 'cumulative_luc_co2',\n",
            "       'cumulative_oil_co2', 'cumulative_other_co2', 'energy_per_capita',\n",
            "       'energy_per_gdp', 'flaring_co2', 'flaring_co2_per_capita', 'gas_co2',\n",
            "       'gas_co2_per_capita', 'ghg_excluding_lucf_per_capita', 'ghg_per_capita',\n",
            "       'land_use_change_co2', 'land_use_change_co2_per_capita', 'methane',\n",
            "       'methane_per_capita', 'nitrous_oxide', 'nitrous_oxide_per_capita',\n",
            "       'oil_co2', 'oil_co2_per_capita', 'other_co2_per_capita',\n",
            "       'other_industry_co2', 'primary_energy_consumption',\n",
            "       'share_global_cement_co2', 'share_global_co2',\n",
            "       'share_global_co2_including_luc', 'share_global_coal_co2',\n",
            "       'share_global_cumulative_cement_co2', 'share_global_cumulative_co2',\n",
            "       'share_global_cumulative_co2_including_luc',\n",
            "       'share_global_cumulative_coal_co2',\n",
            "       'share_global_cumulative_flaring_co2',\n",
            "       'share_global_cumulative_gas_co2', 'share_global_cumulative_luc_co2',\n",
            "       'share_global_cumulative_oil_co2', 'share_global_cumulative_other_co2',\n",
            "       'share_global_flaring_co2', 'share_global_gas_co2',\n",
            "       'share_global_luc_co2', 'share_global_oil_co2',\n",
            "       'share_global_other_co2', 'total_ghg', 'total_ghg_excluding_lucf',\n",
            "       'trade_co2', 'trade_co2_share'],\n",
            "      dtype='object')\n"
          ]
        }
      ]
    },
    {
      "cell_type": "markdown",
      "source": [
        "##### $\\rightarrow$ Select the rows corresponding to individual countries "
      ],
      "metadata": {
        "id": "oQvGwApO35VP"
      }
    },
    {
      "cell_type": "markdown",
      "source": [
        "The `country` column of the data set contains some values that are groups of countries. We will remove these observations from the data set."
      ],
      "metadata": {
        "id": "CoBCrqDQK8RF"
      }
    },
    {
      "cell_type": "code",
      "source": [
        "non_countries = ['Africa', 'Africa (GCP)', 'Asia', 'Asia (GCP)', 'Asia (excl. China and India)', 'Central America (GCP)',\n",
        "                  'EU-27', 'Europe', 'Europe (excl. EU-27)', 'European Union (27) (GCP)', 'Europe (GCP)',\n",
        "                  'Europe (excl. EU-28)', 'European Union (27)', \n",
        "                  'European Union (28)', 'French Equatorial Africa', \n",
        "                  'French Guiana', 'French Polynesia', 'French West Africa',\n",
        "                  'High-income countries', 'International transport', \n",
        "                  'Low-income countries', 'Lower-middle-income countries', 'Mayotte', 'Middle East (GCP)',\n",
        "                  'Non-OECD (GCP)',\n",
        "                  'North America',  'North America (excl. USA)', 'North America (GCP)',\n",
        "                  'Oceania (GCP)', 'OECD (GCP)', \n",
        "                  'Panama Canal Zone','South America', 'South America (GCP)', 'Upper-middle-income countries', \n",
        "                  'World']"
      ],
      "metadata": {
        "id": "eD0vOVGQkTHq"
      },
      "execution_count": 3,
      "outputs": []
    },
    {
      "cell_type": "markdown",
      "source": [
        "Remove the rows corresponding to the non-countries."
      ],
      "metadata": {
        "id": "8gJuF0O9LoPY"
      }
    },
    {
      "cell_type": "code",
      "source": [
        "non_countries.clear()"
      ],
      "metadata": {
        "id": "OvOt7GVgbV7a"
      },
      "execution_count": 16,
      "outputs": []
    },
    {
      "cell_type": "markdown",
      "source": [
        "## Explore the data set"
      ],
      "metadata": {
        "id": "9_VL9S0ZL8eJ"
      }
    },
    {
      "cell_type": "markdown",
      "source": [
        "##### $\\rightarrow$ Display the head of the data frame"
      ],
      "metadata": {
        "id": "q6694yBOMD3F"
      }
    },
    {
      "cell_type": "markdown",
      "source": [
        "##### Solution"
      ],
      "metadata": {
        "id": "QwTFcX-IOpH9"
      }
    },
    {
      "cell_type": "code",
      "source": [
        "df.head()"
      ],
      "metadata": {
        "colab": {
          "base_uri": "https://localhost:8080/",
          "height": 299
        },
        "id": "T3Mym7TWFU3O",
        "outputId": "5b7f44ea-8fc1-4158-d65f-80fa1af5c45f"
      },
      "execution_count": 17,
      "outputs": [
        {
          "output_type": "execute_result",
          "data": {
            "text/plain": [
              "       country  year iso_code  population  gdp  cement_co2  \\\n",
              "0  Afghanistan  1850      AFG   3752993.0  NaN         NaN   \n",
              "1  Afghanistan  1851      AFG   3769828.0  NaN         NaN   \n",
              "2  Afghanistan  1852      AFG   3787706.0  NaN         NaN   \n",
              "3  Afghanistan  1853      AFG   3806634.0  NaN         NaN   \n",
              "4  Afghanistan  1854      AFG   3825655.0  NaN         NaN   \n",
              "\n",
              "   cement_co2_per_capita  co2  co2_growth_abs  co2_growth_prct  ...  \\\n",
              "0                    NaN  NaN             NaN              NaN  ...   \n",
              "1                    NaN  NaN             NaN              NaN  ...   \n",
              "2                    NaN  NaN             NaN              NaN  ...   \n",
              "3                    NaN  NaN             NaN              NaN  ...   \n",
              "4                    NaN  NaN             NaN              NaN  ...   \n",
              "\n",
              "   share_global_cumulative_other_co2  share_global_flaring_co2  \\\n",
              "0                                NaN                       NaN   \n",
              "1                                NaN                       NaN   \n",
              "2                                NaN                       NaN   \n",
              "3                                NaN                       NaN   \n",
              "4                                NaN                       NaN   \n",
              "\n",
              "   share_global_gas_co2  share_global_luc_co2  share_global_oil_co2  \\\n",
              "0                   NaN                 0.121                   NaN   \n",
              "1                   NaN                 0.118                   NaN   \n",
              "2                   NaN                 0.116                   NaN   \n",
              "3                   NaN                 0.115                   NaN   \n",
              "4                   NaN                 0.114                   NaN   \n",
              "\n",
              "   share_global_other_co2  total_ghg  total_ghg_excluding_lucf  trade_co2  \\\n",
              "0                     NaN        NaN                       NaN        NaN   \n",
              "1                     NaN        NaN                       NaN        NaN   \n",
              "2                     NaN        NaN                       NaN        NaN   \n",
              "3                     NaN        NaN                       NaN        NaN   \n",
              "4                     NaN        NaN                       NaN        NaN   \n",
              "\n",
              "   trade_co2_share  \n",
              "0              NaN  \n",
              "1              NaN  \n",
              "2              NaN  \n",
              "3              NaN  \n",
              "4              NaN  \n",
              "\n",
              "[5 rows x 74 columns]"
            ],
            "text/html": [
              "\n",
              "  <div id=\"df-3ee72951-2afb-4cfb-abea-a0ffa1dded79\">\n",
              "    <div class=\"colab-df-container\">\n",
              "      <div>\n",
              "<style scoped>\n",
              "    .dataframe tbody tr th:only-of-type {\n",
              "        vertical-align: middle;\n",
              "    }\n",
              "\n",
              "    .dataframe tbody tr th {\n",
              "        vertical-align: top;\n",
              "    }\n",
              "\n",
              "    .dataframe thead th {\n",
              "        text-align: right;\n",
              "    }\n",
              "</style>\n",
              "<table border=\"1\" class=\"dataframe\">\n",
              "  <thead>\n",
              "    <tr style=\"text-align: right;\">\n",
              "      <th></th>\n",
              "      <th>country</th>\n",
              "      <th>year</th>\n",
              "      <th>iso_code</th>\n",
              "      <th>population</th>\n",
              "      <th>gdp</th>\n",
              "      <th>cement_co2</th>\n",
              "      <th>cement_co2_per_capita</th>\n",
              "      <th>co2</th>\n",
              "      <th>co2_growth_abs</th>\n",
              "      <th>co2_growth_prct</th>\n",
              "      <th>...</th>\n",
              "      <th>share_global_cumulative_other_co2</th>\n",
              "      <th>share_global_flaring_co2</th>\n",
              "      <th>share_global_gas_co2</th>\n",
              "      <th>share_global_luc_co2</th>\n",
              "      <th>share_global_oil_co2</th>\n",
              "      <th>share_global_other_co2</th>\n",
              "      <th>total_ghg</th>\n",
              "      <th>total_ghg_excluding_lucf</th>\n",
              "      <th>trade_co2</th>\n",
              "      <th>trade_co2_share</th>\n",
              "    </tr>\n",
              "  </thead>\n",
              "  <tbody>\n",
              "    <tr>\n",
              "      <th>0</th>\n",
              "      <td>Afghanistan</td>\n",
              "      <td>1850</td>\n",
              "      <td>AFG</td>\n",
              "      <td>3752993.0</td>\n",
              "      <td>NaN</td>\n",
              "      <td>NaN</td>\n",
              "      <td>NaN</td>\n",
              "      <td>NaN</td>\n",
              "      <td>NaN</td>\n",
              "      <td>NaN</td>\n",
              "      <td>...</td>\n",
              "      <td>NaN</td>\n",
              "      <td>NaN</td>\n",
              "      <td>NaN</td>\n",
              "      <td>0.121</td>\n",
              "      <td>NaN</td>\n",
              "      <td>NaN</td>\n",
              "      <td>NaN</td>\n",
              "      <td>NaN</td>\n",
              "      <td>NaN</td>\n",
              "      <td>NaN</td>\n",
              "    </tr>\n",
              "    <tr>\n",
              "      <th>1</th>\n",
              "      <td>Afghanistan</td>\n",
              "      <td>1851</td>\n",
              "      <td>AFG</td>\n",
              "      <td>3769828.0</td>\n",
              "      <td>NaN</td>\n",
              "      <td>NaN</td>\n",
              "      <td>NaN</td>\n",
              "      <td>NaN</td>\n",
              "      <td>NaN</td>\n",
              "      <td>NaN</td>\n",
              "      <td>...</td>\n",
              "      <td>NaN</td>\n",
              "      <td>NaN</td>\n",
              "      <td>NaN</td>\n",
              "      <td>0.118</td>\n",
              "      <td>NaN</td>\n",
              "      <td>NaN</td>\n",
              "      <td>NaN</td>\n",
              "      <td>NaN</td>\n",
              "      <td>NaN</td>\n",
              "      <td>NaN</td>\n",
              "    </tr>\n",
              "    <tr>\n",
              "      <th>2</th>\n",
              "      <td>Afghanistan</td>\n",
              "      <td>1852</td>\n",
              "      <td>AFG</td>\n",
              "      <td>3787706.0</td>\n",
              "      <td>NaN</td>\n",
              "      <td>NaN</td>\n",
              "      <td>NaN</td>\n",
              "      <td>NaN</td>\n",
              "      <td>NaN</td>\n",
              "      <td>NaN</td>\n",
              "      <td>...</td>\n",
              "      <td>NaN</td>\n",
              "      <td>NaN</td>\n",
              "      <td>NaN</td>\n",
              "      <td>0.116</td>\n",
              "      <td>NaN</td>\n",
              "      <td>NaN</td>\n",
              "      <td>NaN</td>\n",
              "      <td>NaN</td>\n",
              "      <td>NaN</td>\n",
              "      <td>NaN</td>\n",
              "    </tr>\n",
              "    <tr>\n",
              "      <th>3</th>\n",
              "      <td>Afghanistan</td>\n",
              "      <td>1853</td>\n",
              "      <td>AFG</td>\n",
              "      <td>3806634.0</td>\n",
              "      <td>NaN</td>\n",
              "      <td>NaN</td>\n",
              "      <td>NaN</td>\n",
              "      <td>NaN</td>\n",
              "      <td>NaN</td>\n",
              "      <td>NaN</td>\n",
              "      <td>...</td>\n",
              "      <td>NaN</td>\n",
              "      <td>NaN</td>\n",
              "      <td>NaN</td>\n",
              "      <td>0.115</td>\n",
              "      <td>NaN</td>\n",
              "      <td>NaN</td>\n",
              "      <td>NaN</td>\n",
              "      <td>NaN</td>\n",
              "      <td>NaN</td>\n",
              "      <td>NaN</td>\n",
              "    </tr>\n",
              "    <tr>\n",
              "      <th>4</th>\n",
              "      <td>Afghanistan</td>\n",
              "      <td>1854</td>\n",
              "      <td>AFG</td>\n",
              "      <td>3825655.0</td>\n",
              "      <td>NaN</td>\n",
              "      <td>NaN</td>\n",
              "      <td>NaN</td>\n",
              "      <td>NaN</td>\n",
              "      <td>NaN</td>\n",
              "      <td>NaN</td>\n",
              "      <td>...</td>\n",
              "      <td>NaN</td>\n",
              "      <td>NaN</td>\n",
              "      <td>NaN</td>\n",
              "      <td>0.114</td>\n",
              "      <td>NaN</td>\n",
              "      <td>NaN</td>\n",
              "      <td>NaN</td>\n",
              "      <td>NaN</td>\n",
              "      <td>NaN</td>\n",
              "      <td>NaN</td>\n",
              "    </tr>\n",
              "  </tbody>\n",
              "</table>\n",
              "<p>5 rows × 74 columns</p>\n",
              "</div>\n",
              "      <button class=\"colab-df-convert\" onclick=\"convertToInteractive('df-3ee72951-2afb-4cfb-abea-a0ffa1dded79')\"\n",
              "              title=\"Convert this dataframe to an interactive table.\"\n",
              "              style=\"display:none;\">\n",
              "        \n",
              "  <svg xmlns=\"http://www.w3.org/2000/svg\" height=\"24px\"viewBox=\"0 0 24 24\"\n",
              "       width=\"24px\">\n",
              "    <path d=\"M0 0h24v24H0V0z\" fill=\"none\"/>\n",
              "    <path d=\"M18.56 5.44l.94 2.06.94-2.06 2.06-.94-2.06-.94-.94-2.06-.94 2.06-2.06.94zm-11 1L8.5 8.5l.94-2.06 2.06-.94-2.06-.94L8.5 2.5l-.94 2.06-2.06.94zm10 10l.94 2.06.94-2.06 2.06-.94-2.06-.94-.94-2.06-.94 2.06-2.06.94z\"/><path d=\"M17.41 7.96l-1.37-1.37c-.4-.4-.92-.59-1.43-.59-.52 0-1.04.2-1.43.59L10.3 9.45l-7.72 7.72c-.78.78-.78 2.05 0 2.83L4 21.41c.39.39.9.59 1.41.59.51 0 1.02-.2 1.41-.59l7.78-7.78 2.81-2.81c.8-.78.8-2.07 0-2.86zM5.41 20L4 18.59l7.72-7.72 1.47 1.35L5.41 20z\"/>\n",
              "  </svg>\n",
              "      </button>\n",
              "      \n",
              "  <style>\n",
              "    .colab-df-container {\n",
              "      display:flex;\n",
              "      flex-wrap:wrap;\n",
              "      gap: 12px;\n",
              "    }\n",
              "\n",
              "    .colab-df-convert {\n",
              "      background-color: #E8F0FE;\n",
              "      border: none;\n",
              "      border-radius: 50%;\n",
              "      cursor: pointer;\n",
              "      display: none;\n",
              "      fill: #1967D2;\n",
              "      height: 32px;\n",
              "      padding: 0 0 0 0;\n",
              "      width: 32px;\n",
              "    }\n",
              "\n",
              "    .colab-df-convert:hover {\n",
              "      background-color: #E2EBFA;\n",
              "      box-shadow: 0px 1px 2px rgba(60, 64, 67, 0.3), 0px 1px 3px 1px rgba(60, 64, 67, 0.15);\n",
              "      fill: #174EA6;\n",
              "    }\n",
              "\n",
              "    [theme=dark] .colab-df-convert {\n",
              "      background-color: #3B4455;\n",
              "      fill: #D2E3FC;\n",
              "    }\n",
              "\n",
              "    [theme=dark] .colab-df-convert:hover {\n",
              "      background-color: #434B5C;\n",
              "      box-shadow: 0px 1px 3px 1px rgba(0, 0, 0, 0.15);\n",
              "      filter: drop-shadow(0px 1px 2px rgba(0, 0, 0, 0.3));\n",
              "      fill: #FFFFFF;\n",
              "    }\n",
              "  </style>\n",
              "\n",
              "      <script>\n",
              "        const buttonEl =\n",
              "          document.querySelector('#df-3ee72951-2afb-4cfb-abea-a0ffa1dded79 button.colab-df-convert');\n",
              "        buttonEl.style.display =\n",
              "          google.colab.kernel.accessAllowed ? 'block' : 'none';\n",
              "\n",
              "        async function convertToInteractive(key) {\n",
              "          const element = document.querySelector('#df-3ee72951-2afb-4cfb-abea-a0ffa1dded79');\n",
              "          const dataTable =\n",
              "            await google.colab.kernel.invokeFunction('convertToInteractive',\n",
              "                                                     [key], {});\n",
              "          if (!dataTable) return;\n",
              "\n",
              "          const docLinkHtml = 'Like what you see? Visit the ' +\n",
              "            '<a target=\"_blank\" href=https://colab.research.google.com/notebooks/data_table.ipynb>data table notebook</a>'\n",
              "            + ' to learn more about interactive tables.';\n",
              "          element.innerHTML = '';\n",
              "          dataTable['output_type'] = 'display_data';\n",
              "          await google.colab.output.renderOutput(dataTable, element);\n",
              "          const docLink = document.createElement('div');\n",
              "          docLink.innerHTML = docLinkHtml;\n",
              "          element.appendChild(docLink);\n",
              "        }\n",
              "      </script>\n",
              "    </div>\n",
              "  </div>\n",
              "  "
            ]
          },
          "metadata": {},
          "execution_count": 17
        }
      ]
    },
    {
      "cell_type": "markdown",
      "source": [
        "##### $\\rightarrow$ Use the `info` method further explore the data.\n",
        "1.  Are there any columns where the data type is obviously incorrect? For example, is there a variable that should be a number, but is coded as a string?\n",
        "2.  Do any of the columns have missing (null) values?"
      ],
      "metadata": {
        "id": "1HQFuZbmNCfO"
      }
    },
    {
      "cell_type": "code",
      "source": [
        "df.info()"
      ],
      "metadata": {
        "colab": {
          "base_uri": "https://localhost:8080/"
        },
        "id": "dred-PAvOnCv",
        "outputId": "845f4f6d-5432-43ab-81bb-64214216312c"
      },
      "execution_count": 6,
      "outputs": [
        {
          "output_type": "stream",
          "name": "stdout",
          "text": [
            "<class 'pandas.core.frame.DataFrame'>\n",
            "Int64Index: 39638 entries, 0 to 46522\n",
            "Data columns (total 74 columns):\n",
            " #   Column                                     Non-Null Count  Dtype  \n",
            "---  ------                                     --------------  -----  \n",
            " 0   country                                    39638 non-null  object \n",
            " 1   year                                       39638 non-null  int64  \n",
            " 2   iso_code                                   39251 non-null  object \n",
            " 3   population                                 36053 non-null  float64\n",
            " 4   gdp                                        14535 non-null  float64\n",
            " 5   cement_co2                                 20333 non-null  float64\n",
            " 6   cement_co2_per_capita                      19018 non-null  float64\n",
            " 7   co2                                        24464 non-null  float64\n",
            " 8   co2_growth_abs                             23971 non-null  float64\n",
            " 9   co2_growth_prct                            21484 non-null  float64\n",
            " 10  co2_including_luc                          21122 non-null  float64\n",
            " 11  co2_including_luc_growth_abs               20839 non-null  float64\n",
            " 12  co2_including_luc_growth_prct              21191 non-null  float64\n",
            " 13  co2_including_luc_per_capita               20780 non-null  float64\n",
            " 14  co2_including_luc_per_gdp                  13384 non-null  float64\n",
            " 15  co2_including_luc_per_unit_energy          8593 non-null   float64\n",
            " 16  co2_per_capita                             23037 non-null  float64\n",
            " 17  co2_per_gdp                                13644 non-null  float64\n",
            " 18  co2_per_unit_energy                        9079 non-null   float64\n",
            " 19  coal_co2                                   21573 non-null  float64\n",
            " 20  coal_co2_per_capita                        21186 non-null  float64\n",
            " 21  consumption_co2                            3730 non-null   float64\n",
            " 22  consumption_co2_per_capita                 3730 non-null   float64\n",
            " 23  consumption_co2_per_gdp                    3457 non-null   float64\n",
            " 24  cumulative_cement_co2                      20232 non-null  float64\n",
            " 25  cumulative_co2                             24363 non-null  float64\n",
            " 26  cumulative_co2_including_luc               21122 non-null  float64\n",
            " 27  cumulative_coal_co2                        21472 non-null  float64\n",
            " 28  cumulative_flaring_co2                     21478 non-null  float64\n",
            " 29  cumulative_gas_co2                         21478 non-null  float64\n",
            " 30  cumulative_luc_co2                         36292 non-null  float64\n",
            " 31  cumulative_oil_co2                         21478 non-null  float64\n",
            " 32  cumulative_other_co2                       1620 non-null   float64\n",
            " 33  energy_per_capita                          9354 non-null   float64\n",
            " 34  energy_per_gdp                             7151 non-null   float64\n",
            " 35  flaring_co2                                21579 non-null  float64\n",
            " 36  flaring_co2_per_capita                     21192 non-null  float64\n",
            " 37  gas_co2                                    21579 non-null  float64\n",
            " 38  gas_co2_per_capita                         21192 non-null  float64\n",
            " 39  ghg_excluding_lucf_per_capita              5819 non-null   float64\n",
            " 40  ghg_per_capita                             5819 non-null   float64\n",
            " 41  land_use_change_co2                        36292 non-null  float64\n",
            " 42  land_use_change_co2_per_capita             33110 non-null  float64\n",
            " 43  methane                                    5820 non-null   float64\n",
            " 44  methane_per_capita                         5820 non-null   float64\n",
            " 45  nitrous_oxide                              5820 non-null   float64\n",
            " 46  nitrous_oxide_per_capita                   5820 non-null   float64\n",
            " 47  oil_co2                                    21579 non-null  float64\n",
            " 48  oil_co2_per_capita                         21192 non-null  float64\n",
            " 49  other_co2_per_capita                       1620 non-null   float64\n",
            " 50  other_industry_co2                         1620 non-null   float64\n",
            " 51  primary_energy_consumption                 9395 non-null   float64\n",
            " 52  share_global_cement_co2                    18207 non-null  float64\n",
            " 53  share_global_co2                           24363 non-null  float64\n",
            " 54  share_global_co2_including_luc             21122 non-null  float64\n",
            " 55  share_global_coal_co2                      21472 non-null  float64\n",
            " 56  share_global_cumulative_cement_co2         18207 non-null  float64\n",
            " 57  share_global_cumulative_co2                24363 non-null  float64\n",
            " 58  share_global_cumulative_co2_including_luc  21122 non-null  float64\n",
            " 59  share_global_cumulative_coal_co2           21472 non-null  float64\n",
            " 60  share_global_cumulative_flaring_co2        14657 non-null  float64\n",
            " 61  share_global_cumulative_gas_co2            19610 non-null  float64\n",
            " 62  share_global_cumulative_luc_co2            36292 non-null  float64\n",
            " 63  share_global_cumulative_oil_co2            20626 non-null  float64\n",
            " 64  share_global_cumulative_other_co2          1620 non-null   float64\n",
            " 65  share_global_flaring_co2                   14657 non-null  float64\n",
            " 66  share_global_gas_co2                       19610 non-null  float64\n",
            " 67  share_global_luc_co2                       36292 non-null  float64\n",
            " 68  share_global_oil_co2                       20626 non-null  float64\n",
            " 69  share_global_other_co2                     1620 non-null   float64\n",
            " 70  total_ghg                                  5819 non-null   float64\n",
            " 71  total_ghg_excluding_lucf                   5819 non-null   float64\n",
            " 72  trade_co2                                  3730 non-null   float64\n",
            " 73  trade_co2_share                            3729 non-null   float64\n",
            "dtypes: float64(71), int64(1), object(2)\n",
            "memory usage: 22.7+ MB\n"
          ]
        }
      ]
    },
    {
      "cell_type": "markdown",
      "source": [
        "##### Solution"
      ],
      "metadata": {
        "id": "Kt-vodi7OoKB"
      }
    },
    {
      "cell_type": "markdown",
      "source": [
        "1. yes, the popualation should not end with \".0\". The population should be a whole numner not a decimal number."
      ],
      "metadata": {
        "id": "AcAtE9OAPBkI"
      }
    },
    {
      "cell_type": "code",
      "source": [
        "df.isna().sum()"
      ],
      "metadata": {
        "colab": {
          "base_uri": "https://localhost:8080/"
        },
        "id": "7lr28j3W87oB",
        "outputId": "f8d05dea-ce0f-4392-deb1-7cdc8b47a726"
      },
      "execution_count": 7,
      "outputs": [
        {
          "output_type": "execute_result",
          "data": {
            "text/plain": [
              "country                         0\n",
              "year                            0\n",
              "iso_code                      387\n",
              "population                   3585\n",
              "gdp                         25103\n",
              "                            ...  \n",
              "share_global_other_co2      38018\n",
              "total_ghg                   33819\n",
              "total_ghg_excluding_lucf    33819\n",
              "trade_co2                   35908\n",
              "trade_co2_share             35909\n",
              "Length: 74, dtype: int64"
            ]
          },
          "metadata": {},
          "execution_count": 7
        }
      ]
    },
    {
      "cell_type": "markdown",
      "source": [
        "2. Yes, some culmns have missing values. For example: year"
      ],
      "metadata": {
        "id": "xcUhL8po9LGg"
      }
    },
    {
      "cell_type": "markdown",
      "source": [
        "##### $\\rightarrow$ What years are present in the data set?"
      ],
      "metadata": {
        "id": "f89ETnavWcPa"
      }
    },
    {
      "cell_type": "markdown",
      "source": [
        "##### Solution"
      ],
      "metadata": {
        "id": "yUQLOAJrXGNk"
      }
    },
    {
      "cell_type": "code",
      "source": [
        "df.loc[:,[\"year\"]]"
      ],
      "metadata": {
        "colab": {
          "base_uri": "https://localhost:8080/",
          "height": 423
        },
        "id": "osTqj192aPPh",
        "outputId": "32ebf690-d0a8-4be6-f46c-bffa967ad0e7"
      },
      "execution_count": 8,
      "outputs": [
        {
          "output_type": "execute_result",
          "data": {
            "text/plain": [
              "       year\n",
              "0      1850\n",
              "1      1851\n",
              "2      1852\n",
              "3      1853\n",
              "4      1854\n",
              "...     ...\n",
              "46518  2017\n",
              "46519  2018\n",
              "46520  2019\n",
              "46521  2020\n",
              "46522  2021\n",
              "\n",
              "[39638 rows x 1 columns]"
            ],
            "text/html": [
              "\n",
              "  <div id=\"df-eb442539-031a-4b86-922c-e06079cc0d73\">\n",
              "    <div class=\"colab-df-container\">\n",
              "      <div>\n",
              "<style scoped>\n",
              "    .dataframe tbody tr th:only-of-type {\n",
              "        vertical-align: middle;\n",
              "    }\n",
              "\n",
              "    .dataframe tbody tr th {\n",
              "        vertical-align: top;\n",
              "    }\n",
              "\n",
              "    .dataframe thead th {\n",
              "        text-align: right;\n",
              "    }\n",
              "</style>\n",
              "<table border=\"1\" class=\"dataframe\">\n",
              "  <thead>\n",
              "    <tr style=\"text-align: right;\">\n",
              "      <th></th>\n",
              "      <th>year</th>\n",
              "    </tr>\n",
              "  </thead>\n",
              "  <tbody>\n",
              "    <tr>\n",
              "      <th>0</th>\n",
              "      <td>1850</td>\n",
              "    </tr>\n",
              "    <tr>\n",
              "      <th>1</th>\n",
              "      <td>1851</td>\n",
              "    </tr>\n",
              "    <tr>\n",
              "      <th>2</th>\n",
              "      <td>1852</td>\n",
              "    </tr>\n",
              "    <tr>\n",
              "      <th>3</th>\n",
              "      <td>1853</td>\n",
              "    </tr>\n",
              "    <tr>\n",
              "      <th>4</th>\n",
              "      <td>1854</td>\n",
              "    </tr>\n",
              "    <tr>\n",
              "      <th>...</th>\n",
              "      <td>...</td>\n",
              "    </tr>\n",
              "    <tr>\n",
              "      <th>46518</th>\n",
              "      <td>2017</td>\n",
              "    </tr>\n",
              "    <tr>\n",
              "      <th>46519</th>\n",
              "      <td>2018</td>\n",
              "    </tr>\n",
              "    <tr>\n",
              "      <th>46520</th>\n",
              "      <td>2019</td>\n",
              "    </tr>\n",
              "    <tr>\n",
              "      <th>46521</th>\n",
              "      <td>2020</td>\n",
              "    </tr>\n",
              "    <tr>\n",
              "      <th>46522</th>\n",
              "      <td>2021</td>\n",
              "    </tr>\n",
              "  </tbody>\n",
              "</table>\n",
              "<p>39638 rows × 1 columns</p>\n",
              "</div>\n",
              "      <button class=\"colab-df-convert\" onclick=\"convertToInteractive('df-eb442539-031a-4b86-922c-e06079cc0d73')\"\n",
              "              title=\"Convert this dataframe to an interactive table.\"\n",
              "              style=\"display:none;\">\n",
              "        \n",
              "  <svg xmlns=\"http://www.w3.org/2000/svg\" height=\"24px\"viewBox=\"0 0 24 24\"\n",
              "       width=\"24px\">\n",
              "    <path d=\"M0 0h24v24H0V0z\" fill=\"none\"/>\n",
              "    <path d=\"M18.56 5.44l.94 2.06.94-2.06 2.06-.94-2.06-.94-.94-2.06-.94 2.06-2.06.94zm-11 1L8.5 8.5l.94-2.06 2.06-.94-2.06-.94L8.5 2.5l-.94 2.06-2.06.94zm10 10l.94 2.06.94-2.06 2.06-.94-2.06-.94-.94-2.06-.94 2.06-2.06.94z\"/><path d=\"M17.41 7.96l-1.37-1.37c-.4-.4-.92-.59-1.43-.59-.52 0-1.04.2-1.43.59L10.3 9.45l-7.72 7.72c-.78.78-.78 2.05 0 2.83L4 21.41c.39.39.9.59 1.41.59.51 0 1.02-.2 1.41-.59l7.78-7.78 2.81-2.81c.8-.78.8-2.07 0-2.86zM5.41 20L4 18.59l7.72-7.72 1.47 1.35L5.41 20z\"/>\n",
              "  </svg>\n",
              "      </button>\n",
              "      \n",
              "  <style>\n",
              "    .colab-df-container {\n",
              "      display:flex;\n",
              "      flex-wrap:wrap;\n",
              "      gap: 12px;\n",
              "    }\n",
              "\n",
              "    .colab-df-convert {\n",
              "      background-color: #E8F0FE;\n",
              "      border: none;\n",
              "      border-radius: 50%;\n",
              "      cursor: pointer;\n",
              "      display: none;\n",
              "      fill: #1967D2;\n",
              "      height: 32px;\n",
              "      padding: 0 0 0 0;\n",
              "      width: 32px;\n",
              "    }\n",
              "\n",
              "    .colab-df-convert:hover {\n",
              "      background-color: #E2EBFA;\n",
              "      box-shadow: 0px 1px 2px rgba(60, 64, 67, 0.3), 0px 1px 3px 1px rgba(60, 64, 67, 0.15);\n",
              "      fill: #174EA6;\n",
              "    }\n",
              "\n",
              "    [theme=dark] .colab-df-convert {\n",
              "      background-color: #3B4455;\n",
              "      fill: #D2E3FC;\n",
              "    }\n",
              "\n",
              "    [theme=dark] .colab-df-convert:hover {\n",
              "      background-color: #434B5C;\n",
              "      box-shadow: 0px 1px 3px 1px rgba(0, 0, 0, 0.15);\n",
              "      filter: drop-shadow(0px 1px 2px rgba(0, 0, 0, 0.3));\n",
              "      fill: #FFFFFF;\n",
              "    }\n",
              "  </style>\n",
              "\n",
              "      <script>\n",
              "        const buttonEl =\n",
              "          document.querySelector('#df-eb442539-031a-4b86-922c-e06079cc0d73 button.colab-df-convert');\n",
              "        buttonEl.style.display =\n",
              "          google.colab.kernel.accessAllowed ? 'block' : 'none';\n",
              "\n",
              "        async function convertToInteractive(key) {\n",
              "          const element = document.querySelector('#df-eb442539-031a-4b86-922c-e06079cc0d73');\n",
              "          const dataTable =\n",
              "            await google.colab.kernel.invokeFunction('convertToInteractive',\n",
              "                                                     [key], {});\n",
              "          if (!dataTable) return;\n",
              "\n",
              "          const docLinkHtml = 'Like what you see? Visit the ' +\n",
              "            '<a target=\"_blank\" href=https://colab.research.google.com/notebooks/data_table.ipynb>data table notebook</a>'\n",
              "            + ' to learn more about interactive tables.';\n",
              "          element.innerHTML = '';\n",
              "          dataTable['output_type'] = 'display_data';\n",
              "          await google.colab.output.renderOutput(dataTable, element);\n",
              "          const docLink = document.createElement('div');\n",
              "          docLink.innerHTML = docLinkHtml;\n",
              "          element.appendChild(docLink);\n",
              "        }\n",
              "      </script>\n",
              "    </div>\n",
              "  </div>\n",
              "  "
            ]
          },
          "metadata": {},
          "execution_count": 8
        }
      ]
    },
    {
      "cell_type": "markdown",
      "source": [
        "The years present in the data set are: 1850 to 2021\n",
        "\n",
        "\n"
      ],
      "metadata": {
        "id": "d7UTyRRERKM-"
      }
    },
    {
      "cell_type": "markdown",
      "source": [
        "## Analysis of top emissions in 2020"
      ],
      "metadata": {
        "id": "GmVvf18573HS"
      }
    },
    {
      "cell_type": "markdown",
      "metadata": {
        "id": "2kwe790ATm0S"
      },
      "source": [
        "##### $\\rightarrow$ Find the top 10 emitters of total CO$_2$ in 2020.\n",
        "\n"
      ]
    },
    {
      "cell_type": "markdown",
      "source": [
        "##### Solution"
      ],
      "metadata": {
        "id": "aCS-tOXPZC4W"
      }
    },
    {
      "cell_type": "code",
      "source": [
        "df.sort_values(by='co2', ascending=False).loc[df['year'] == 2020][['country','co2']].head(10)"
      ],
      "metadata": {
        "colab": {
          "base_uri": "https://localhost:8080/",
          "height": 363
        },
        "id": "GTre_v31SSNV",
        "outputId": "19609105-3d48-4f2e-e0f2-fea4b2438296"
      },
      "execution_count": 19,
      "outputs": [
        {
          "output_type": "execute_result",
          "data": {
            "text/plain": [
              "             country        co2\n",
              "8989           China  10956.213\n",
              "44221  United States   4715.691\n",
              "20136          India   2445.012\n",
              "35053         Russia   1624.221\n",
              "21756          Japan   1042.224\n",
              "20552           Iran    729.978\n",
              "36664   Saudi Arabia    661.193\n",
              "16794        Germany    639.381\n",
              "20308      Indonesia    609.786\n",
              "39259    South Korea    597.634"
            ],
            "text/html": [
              "\n",
              "  <div id=\"df-44811042-b287-4ef6-a6cf-eed9efd5b93c\">\n",
              "    <div class=\"colab-df-container\">\n",
              "      <div>\n",
              "<style scoped>\n",
              "    .dataframe tbody tr th:only-of-type {\n",
              "        vertical-align: middle;\n",
              "    }\n",
              "\n",
              "    .dataframe tbody tr th {\n",
              "        vertical-align: top;\n",
              "    }\n",
              "\n",
              "    .dataframe thead th {\n",
              "        text-align: right;\n",
              "    }\n",
              "</style>\n",
              "<table border=\"1\" class=\"dataframe\">\n",
              "  <thead>\n",
              "    <tr style=\"text-align: right;\">\n",
              "      <th></th>\n",
              "      <th>country</th>\n",
              "      <th>co2</th>\n",
              "    </tr>\n",
              "  </thead>\n",
              "  <tbody>\n",
              "    <tr>\n",
              "      <th>8989</th>\n",
              "      <td>China</td>\n",
              "      <td>10956.213</td>\n",
              "    </tr>\n",
              "    <tr>\n",
              "      <th>44221</th>\n",
              "      <td>United States</td>\n",
              "      <td>4715.691</td>\n",
              "    </tr>\n",
              "    <tr>\n",
              "      <th>20136</th>\n",
              "      <td>India</td>\n",
              "      <td>2445.012</td>\n",
              "    </tr>\n",
              "    <tr>\n",
              "      <th>35053</th>\n",
              "      <td>Russia</td>\n",
              "      <td>1624.221</td>\n",
              "    </tr>\n",
              "    <tr>\n",
              "      <th>21756</th>\n",
              "      <td>Japan</td>\n",
              "      <td>1042.224</td>\n",
              "    </tr>\n",
              "    <tr>\n",
              "      <th>20552</th>\n",
              "      <td>Iran</td>\n",
              "      <td>729.978</td>\n",
              "    </tr>\n",
              "    <tr>\n",
              "      <th>36664</th>\n",
              "      <td>Saudi Arabia</td>\n",
              "      <td>661.193</td>\n",
              "    </tr>\n",
              "    <tr>\n",
              "      <th>16794</th>\n",
              "      <td>Germany</td>\n",
              "      <td>639.381</td>\n",
              "    </tr>\n",
              "    <tr>\n",
              "      <th>20308</th>\n",
              "      <td>Indonesia</td>\n",
              "      <td>609.786</td>\n",
              "    </tr>\n",
              "    <tr>\n",
              "      <th>39259</th>\n",
              "      <td>South Korea</td>\n",
              "      <td>597.634</td>\n",
              "    </tr>\n",
              "  </tbody>\n",
              "</table>\n",
              "</div>\n",
              "      <button class=\"colab-df-convert\" onclick=\"convertToInteractive('df-44811042-b287-4ef6-a6cf-eed9efd5b93c')\"\n",
              "              title=\"Convert this dataframe to an interactive table.\"\n",
              "              style=\"display:none;\">\n",
              "        \n",
              "  <svg xmlns=\"http://www.w3.org/2000/svg\" height=\"24px\"viewBox=\"0 0 24 24\"\n",
              "       width=\"24px\">\n",
              "    <path d=\"M0 0h24v24H0V0z\" fill=\"none\"/>\n",
              "    <path d=\"M18.56 5.44l.94 2.06.94-2.06 2.06-.94-2.06-.94-.94-2.06-.94 2.06-2.06.94zm-11 1L8.5 8.5l.94-2.06 2.06-.94-2.06-.94L8.5 2.5l-.94 2.06-2.06.94zm10 10l.94 2.06.94-2.06 2.06-.94-2.06-.94-.94-2.06-.94 2.06-2.06.94z\"/><path d=\"M17.41 7.96l-1.37-1.37c-.4-.4-.92-.59-1.43-.59-.52 0-1.04.2-1.43.59L10.3 9.45l-7.72 7.72c-.78.78-.78 2.05 0 2.83L4 21.41c.39.39.9.59 1.41.59.51 0 1.02-.2 1.41-.59l7.78-7.78 2.81-2.81c.8-.78.8-2.07 0-2.86zM5.41 20L4 18.59l7.72-7.72 1.47 1.35L5.41 20z\"/>\n",
              "  </svg>\n",
              "      </button>\n",
              "      \n",
              "  <style>\n",
              "    .colab-df-container {\n",
              "      display:flex;\n",
              "      flex-wrap:wrap;\n",
              "      gap: 12px;\n",
              "    }\n",
              "\n",
              "    .colab-df-convert {\n",
              "      background-color: #E8F0FE;\n",
              "      border: none;\n",
              "      border-radius: 50%;\n",
              "      cursor: pointer;\n",
              "      display: none;\n",
              "      fill: #1967D2;\n",
              "      height: 32px;\n",
              "      padding: 0 0 0 0;\n",
              "      width: 32px;\n",
              "    }\n",
              "\n",
              "    .colab-df-convert:hover {\n",
              "      background-color: #E2EBFA;\n",
              "      box-shadow: 0px 1px 2px rgba(60, 64, 67, 0.3), 0px 1px 3px 1px rgba(60, 64, 67, 0.15);\n",
              "      fill: #174EA6;\n",
              "    }\n",
              "\n",
              "    [theme=dark] .colab-df-convert {\n",
              "      background-color: #3B4455;\n",
              "      fill: #D2E3FC;\n",
              "    }\n",
              "\n",
              "    [theme=dark] .colab-df-convert:hover {\n",
              "      background-color: #434B5C;\n",
              "      box-shadow: 0px 1px 3px 1px rgba(0, 0, 0, 0.15);\n",
              "      filter: drop-shadow(0px 1px 2px rgba(0, 0, 0, 0.3));\n",
              "      fill: #FFFFFF;\n",
              "    }\n",
              "  </style>\n",
              "\n",
              "      <script>\n",
              "        const buttonEl =\n",
              "          document.querySelector('#df-44811042-b287-4ef6-a6cf-eed9efd5b93c button.colab-df-convert');\n",
              "        buttonEl.style.display =\n",
              "          google.colab.kernel.accessAllowed ? 'block' : 'none';\n",
              "\n",
              "        async function convertToInteractive(key) {\n",
              "          const element = document.querySelector('#df-44811042-b287-4ef6-a6cf-eed9efd5b93c');\n",
              "          const dataTable =\n",
              "            await google.colab.kernel.invokeFunction('convertToInteractive',\n",
              "                                                     [key], {});\n",
              "          if (!dataTable) return;\n",
              "\n",
              "          const docLinkHtml = 'Like what you see? Visit the ' +\n",
              "            '<a target=\"_blank\" href=https://colab.research.google.com/notebooks/data_table.ipynb>data table notebook</a>'\n",
              "            + ' to learn more about interactive tables.';\n",
              "          element.innerHTML = '';\n",
              "          dataTable['output_type'] = 'display_data';\n",
              "          await google.colab.output.renderOutput(dataTable, element);\n",
              "          const docLink = document.createElement('div');\n",
              "          docLink.innerHTML = docLinkHtml;\n",
              "          element.appendChild(docLink);\n",
              "        }\n",
              "      </script>\n",
              "    </div>\n",
              "  </div>\n",
              "  "
            ]
          },
          "metadata": {},
          "execution_count": 19
        }
      ]
    },
    {
      "cell_type": "markdown",
      "source": [
        "##### $\\rightarrow$ Make a histogram of total CO$_2$ emissions in 2020. Make the plot on a density scale."
      ],
      "metadata": {
        "id": "Efky-9yTe3lG"
      }
    },
    {
      "cell_type": "code",
      "source": [
        "# Set the figure size\n",
        "plt.figure(figsize = (8,6))\n",
        "\n",
        "# Produce the histogram\n",
        "sns.histplot(data = df[df['year'] == 2020], x = 'co2',  bins = np.r_[np.linspace(0, 5, 5), 18], color = 'dodgerblue', alpha = 0.7, stat = 'density')\n",
        "\n",
        "# Label the axes\n",
        "plt.ylabel('Density',fontsize = 20)\n",
        "plt.xlabel('co2',fontsize = 20)\n",
        "\n",
        "# Set sizes of tick labels\n",
        "plt.tick_params(labelsize = 16);"
      ],
      "metadata": {
        "colab": {
          "base_uri": "https://localhost:8080/",
          "height": 562
        },
        "id": "ZxdD6IZU7zHr",
        "outputId": "9cff59ed-327e-4d75-c51a-c8bd2e11a6ba"
      },
      "execution_count": 10,
      "outputs": [
        {
          "output_type": "display_data",
          "data": {
            "text/plain": [
              "<Figure size 800x600 with 1 Axes>"
            ],
            "image/png": "[encoded data removed]"
          },
          "metadata": {}
        }
      ]
    },
    {
      "cell_type": "markdown",
      "source": [
        "##### Solution"
      ],
      "metadata": {
        "id": "8A_SQ6jblun4"
      }
    },
    {
      "cell_type": "markdown",
      "source": [
        "We can see that have a skewed distribution based on the histogram generated."
      ],
      "metadata": {
        "id": "dOeRnWFm_Cx9"
      }
    },
    {
      "cell_type": "markdown",
      "source": [
        "##### $\\rightarrow$ Make a boxplot of total CO$_2$ emissions in 2020. Add a strip plot on top of the boxplot."
      ],
      "metadata": {
        "id": "celYP5XTeWqF"
      }
    },
    {
      "cell_type": "markdown",
      "source": [
        "##### Solution"
      ],
      "metadata": {
        "id": "hIVTfC9AlvOg"
      }
    },
    {
      "cell_type": "code",
      "source": [
        "#Figure size\n",
        "plt.figure(figsize = (15,5))\n",
        "\n",
        "# Use Seaborn to make the boxplot, but don't show outliers (fliersize = 0)\n",
        "sns.boxplot(data = df[df['year'] == 2020], x = 'co2', color = 'dodgerblue', width = 0.5, fliersize = 0)\n",
        "\n",
        "# Use Seaborn to make the swarm plot\n",
        "sns.stripplot(data = df[df['year'] == 2020], x = 'co2', color = 'orange', size = 6, alpha = 0.6)\n",
        "\n",
        "# Label axes\n",
        "plt.xlabel('co2 (million tons)', fontsize = 20)\n",
        "\n",
        "# Set sizes of tick labels\n",
        "plt.tick_params(labelsize = 16);"
      ],
      "metadata": {
        "colab": {
          "base_uri": "https://localhost:8080/",
          "height": 476
        },
        "id": "9jI9PUhF7XTR",
        "outputId": "f881d109-3297-4e64-a0c4-1ac13be5b3ac"
      },
      "execution_count": 11,
      "outputs": [
        {
          "output_type": "display_data",
          "data": {
            "text/plain": [
              "<Figure size 1500x500 with 1 Axes>"
            ],
            "image/png": "[encoded data removed]"
          },
          "metadata": {}
        }
      ]
    },
    {
      "cell_type": "markdown",
      "source": [
        "##### $\\rightarrow$ Are the CO$_2$ emissions of the top 10 emitters in 2020 outliers in the distribution?"
      ],
      "metadata": {
        "id": "_c8wgaqjttmv"
      }
    },
    {
      "cell_type": "markdown",
      "source": [
        "##### Solution"
      ],
      "metadata": {
        "id": "su0jIszbt5GJ"
      }
    },
    {
      "cell_type": "markdown",
      "source": [
        "Yes, the top 10 emitters in 2020 are outliers in the distribution."
      ],
      "metadata": {
        "id": "6RzNTWQ3_aVv"
      }
    },
    {
      "cell_type": "markdown",
      "source": [
        "## Emission trend over time"
      ],
      "metadata": {
        "id": "O54iekf42lUR"
      }
    },
    {
      "cell_type": "markdown",
      "source": [
        "##### $\\rightarrow$ Is the data set missing any CO$_2$ emission values for the top 10 emitters in 2020 over the years 1971 to 2020?"
      ],
      "metadata": {
        "id": "TCxt51aq2q2a"
      }
    },
    {
      "cell_type": "markdown",
      "source": [
        "##### Solution"
      ],
      "metadata": {
        "id": "kYwe4Fi42442"
      }
    },
    {
      "cell_type": "code",
      "source": [
        "top10 = df.sort_values(by='co2', ascending=False).loc[df['year'] == 2020 ]['country'].head(10)\n",
        "emmiters = top10.tolist()\n",
        "df_years = df.loc[(df['year'] < 2020) & (df['year'] > 1971)]\n",
        "df_years_countries = df_years.loc[df_years['country'].isin(emmiters) == True]\n",
        "df_years_countries['co2'].isna().sum()"
      ],
      "metadata": {
        "colab": {
          "base_uri": "https://localhost:8080/"
        },
        "id": "-TV1Blgj_2sr",
        "outputId": "10c99548-d96a-483a-b69f-ca1ef22d0764"
      },
      "execution_count": 12,
      "outputs": [
        {
          "output_type": "execute_result",
          "data": {
            "text/plain": [
              "0"
            ]
          },
          "metadata": {},
          "execution_count": 12
        }
      ]
    },
    {
      "cell_type": "markdown",
      "source": [
        "No, the data set is not missing any CO2 emission values for the top 10 emitters in 2020 over the years 1971 to 2020 "
      ],
      "metadata": {
        "id": "t24ZW5yc_5Ew"
      }
    },
    {
      "cell_type": "markdown",
      "source": [
        "##### $\\rightarrow$ Plot the time plot of the total CO$_2$ emissions from 1971 to 2020 for the top 10 emitters in 2020."
      ],
      "metadata": {
        "id": "D1zXZpkHW-rt"
      }
    },
    {
      "cell_type": "markdown",
      "source": [
        "##### Solution"
      ],
      "metadata": {
        "id": "ejVOrFd73U_k"
      }
    },
    {
      "cell_type": "code",
      "source": [
        "plt.figure(figsize=(20,5))\n",
        "sns.lineplot(data= df_years_countries, x='year', y='co2')\n",
        "\n",
        "plt.xlabel('Year', fontsize = 20)\n",
        "plt.ylabel('co2', fontsize = 18)\n",
        "\n",
        "# Set sizes of tick labels\n",
        "plt.tick_params(labelsize = 16);"
      ],
      "metadata": {
        "colab": {
          "base_uri": "https://localhost:8080/",
          "height": 342
        },
        "id": "dnzIxESkASUh",
        "outputId": "98f3ee53-1377-4f40-8b84-5f1d04d4f7f0"
      },
      "execution_count": 13,
      "outputs": [
        {
          "output_type": "display_data",
          "data": {
            "text/plain": [
              "<Figure size 2000x500 with 1 Axes>"
            ],
            "image/png": "[encoded data removed]"
          },
          "metadata": {}
        }
      ]
    },
    {
      "cell_type": "markdown",
      "source": [
        "##### $\\rightarrow$ Again, plot the time plot of the total CO$_2$ emissions from 1971 to 2020 for the top 10 emitters in 2020, but now also include a plot of the mean total CO$_2$ emissions over all countries on the same plot."
      ],
      "metadata": {
        "id": "wUbmtc5PYpqF"
      }
    },
    {
      "cell_type": "markdown",
      "source": [
        "##### Solution"
      ],
      "metadata": {
        "id": "0a4JaJuZ3XrK"
      }
    },
    {
      "cell_type": "code",
      "source": [
        "plt.figure(figsize=(20,5))\n",
        "sns.lineplot(data= df_years_countries, x='year', y='co2')\n",
        "\n",
        "sns.lineplot(data = df_years.groupby('country').mean(),\n",
        "             x = 'year',\n",
        "             y = 'co2',\n",
        "             color = 'k')\n",
        "plt.tick_params(labelsize = 12)\n",
        "\n",
        "\n",
        "\n",
        "plt.xlabel('Year', fontsize = 20)\n",
        "plt.ylabel('co2', fontsize = 18)\n",
        "\n",
        "# Set sizes of tick labels\n",
        "plt.tick_params(labelsize = 16);"
      ],
      "metadata": {
        "colab": {
          "base_uri": "https://localhost:8080/",
          "height": 540
        },
        "id": "4qS7_vG7AeCp",
        "outputId": "44dc2c51-0cce-482e-c4d3-411344df1e29"
      },
      "execution_count": 14,
      "outputs": [
        {
          "output_type": "stream",
          "name": "stderr",
          "text": [
            "<ipython-input-14-ac515a137ad9>:4: FutureWarning: The default value of numeric_only in DataFrameGroupBy.mean is deprecated. In a future version, numeric_only will default to False. Either specify numeric_only or select only columns which should be valid for the function.\n",
            "  sns.lineplot(data = df_years.groupby('country').mean(),\n"
          ]
        },
        {
          "output_type": "display_data",
          "data": {
            "text/plain": [
              "<Figure size 2000x500 with 1 Axes>"
            ],
            "image/png": "[encoded data removed]"
          },
          "metadata": {}
        }
      ]
    },
    {
      "cell_type": "markdown",
      "source": [
        "##### $\\rightarrow$ Given the large difference between the smallest and largest values, it can help to plot the results on a log scale. Produce the plot of the top 10 emitters and the mean with CO$_2$ emissions on a log scale."
      ],
      "metadata": {
        "id": "SPzueyq4cyXK"
      }
    },
    {
      "cell_type": "markdown",
      "source": [
        "##### Solution"
      ],
      "metadata": {
        "id": "B4MDs4FZlyLg"
      }
    },
    {
      "cell_type": "code",
      "source": [
        "plt.figure(figsize=(20,5))\n",
        "sns.lineplot(data= df_years_countries, x='year', y='co2')\n",
        "\n",
        "sns.lineplot(data = df_years.groupby('country').mean(),\n",
        "             x = 'year',\n",
        "             y = 'co2',\n",
        "             color = 'k')\n",
        "plt.tick_params(labelsize = 12)\n",
        "\n",
        "\n",
        "\n",
        "plt.xlabel('Year', fontsize = 20)\n",
        "plt.ylabel('co2', fontsize = 18)\n",
        "plt.yscale(\"log\")\n",
        "\n",
        "# Set sizes of tick labels\n",
        "plt.tick_params(labelsize = 16);"
      ],
      "metadata": {
        "colab": {
          "base_uri": "https://localhost:8080/",
          "height": 540
        },
        "id": "WzS2GrMSA9cw",
        "outputId": "3653a831-ac24-43bc-832a-b20cc8b6f3a5"
      },
      "execution_count": 15,
      "outputs": [
        {
          "output_type": "stream",
          "name": "stderr",
          "text": [
            "<ipython-input-15-ceb66bc889bf>:4: FutureWarning: The default value of numeric_only in DataFrameGroupBy.mean is deprecated. In a future version, numeric_only will default to False. Either specify numeric_only or select only columns which should be valid for the function.\n",
            "  sns.lineplot(data = df_years.groupby('country').mean(),\n"
          ]
        },
        {
          "output_type": "display_data",
          "data": {
            "text/plain": [
              "<Figure size 2000x500 with 1 Axes>"
            ],
            "image/png": "[encoded data removed]"
          },
          "metadata": {}
        }
      ]
    },
    {
      "cell_type": "markdown",
      "source": [],
      "metadata": {
        "id": "Pa9mlgt4Av01"
      }
    },
    {
      "cell_type": "markdown",
      "source": [
        "##### $\\rightarrow$ Comment on the trend in CO$_2$ emissions from these countries over the last 50 years."
      ],
      "metadata": {
        "id": "bnoVsmMtitYN"
      }
    },
    {
      "cell_type": "markdown",
      "source": [
        "##### Solution"
      ],
      "metadata": {
        "id": "pf0I9hgZlYvb"
      }
    },
    {
      "cell_type": "markdown",
      "source": [
        "The trend in co2 emissions from these countries over the last 50 years is mostly a linearly increasing path with some decreasing parts between the 1970 to 1980 and 1990 to 2000"
      ],
      "metadata": {
        "id": "15hoaUhJBQuV"
      }
    }
  ]
}